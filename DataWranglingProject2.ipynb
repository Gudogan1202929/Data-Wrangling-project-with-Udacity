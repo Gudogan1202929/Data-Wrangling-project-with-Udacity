{
 "cells": [
  {
   "cell_type": "markdown",
   "id": "fa54ed20-6173-4a5d-8c1a-ab5f606001d4",
   "metadata": {},
   "source": [
    "# <center>Data Wrangling</center>"
   ]
  },
  {
   "cell_type": "markdown",
   "id": "04d62469-9a23-4402-a528-0e00d8196ea8",
   "metadata": {},
   "source": [
    "## introduction"
   ]
  },
  {
   "cell_type": "markdown",
   "id": "ed858826-192b-454a-b6e7-0342be81dfdc",
   "metadata": {},
   "source": [
    "In this project, I will apply the skills that i acquired in the course to gather and wrangle real-world data with two datasets of\n",
    "my choice.\n",
    "I will retrieve and extract the data, assess the data programmatically and visually, accross elements of data quality and\n",
    "structure, and implement a cleaning strategy for the data. I will then store the updated data into mine selected\n",
    "database/data store, combine the data, and answer a research question with the datasets.\n",
    "Throughout the process, I are expected to:\n",
    "1. Explain my decisions towards methods used for gathering, assessing, cleaning, storing, and answering the research\n",
    "question\n",
    "2. Write code comments so my code is more readable"
   ]
  },
  {
   "cell_type": "markdown",
   "id": "9b1b261a-8544-4074-af18-b7b40986f52f",
   "metadata": {},
   "source": [
    "## The data Wrangling process will be like :"
   ]
  },
  {
   "cell_type": "markdown",
   "id": "27038bd5-a81c-4182-ace1-2d7066605be6",
   "metadata": {},
   "source": [
    "!['AltText'](images/wrang.png)"
   ]
  },
  {
   "cell_type": "markdown",
   "id": "2716578d-9fea-49de-99fd-8f8de95be8a0",
   "metadata": {},
   "source": [
    "### We will walk step by step of **Data Wrangling** technique"
   ]
  },
  {
   "cell_type": "markdown",
   "id": "48b3139a-2b4b-4129-9ee2-9edd839112c5",
   "metadata": {},
   "source": [
    "*Importing the required libraries for the project*"
   ]
  },
  {
   "cell_type": "code",
   "execution_count": 179,
   "id": "8aa76e15-e92a-4808-9a41-d53ebe77fcf9",
   "metadata": {},
   "outputs": [],
   "source": [
    "import pandas as pd  # Data manipulation\n",
    "import numpy as np  # Numerical operations\n",
    "import seaborn as sns  # Data visualization\n",
    "import requests  # HTTP requests\n",
    "import matplotlib.pyplot as plt  # Plotting\n",
    "import urllib.request  # Opening URLs\n",
    "import warnings  # Manage warnings"
   ]
  },
  {
   "cell_type": "markdown",
   "id": "4c0d602f-ff80-42e3-9d9c-4d10b7ab343a",
   "metadata": {},
   "source": [
    "*For ignoring the unnsereary warninngs*"
   ]
  },
  {
   "cell_type": "code",
   "execution_count": 180,
   "id": "4c86a987-a106-4eae-967e-bc98df273de1",
   "metadata": {},
   "outputs": [],
   "source": [
    "warnings.filterwarnings(\"ignore\")"
   ]
  },
  {
   "cell_type": "markdown",
   "id": "69bb3540-3d44-465e-b28e-fb19bd91aef8",
   "metadata": {},
   "source": [
    "## 1. Data Gathering (Both of the datasets)"
   ]
  },
  {
   "cell_type": "markdown",
   "id": "f2c2f0ae-7bef-4143-8485-72d3ccfe35ce",
   "metadata": {},
   "source": [
    "#### First dataset about a cars taken from API [git hub user content](https://raw.githubusercontent.com) "
   ]
  },
  {
   "cell_type": "code",
   "execution_count": 181,
   "id": "391b672f-da83-4f3c-be76-a7026a6448b3",
   "metadata": {},
   "outputs": [
    {
     "data": {
      "text/html": [
       "<div>\n",
       "<style scoped>\n",
       "    .dataframe tbody tr th:only-of-type {\n",
       "        vertical-align: middle;\n",
       "    }\n",
       "\n",
       "    .dataframe tbody tr th {\n",
       "        vertical-align: top;\n",
       "    }\n",
       "\n",
       "    .dataframe thead th {\n",
       "        text-align: right;\n",
       "    }\n",
       "</style>\n",
       "<table border=\"1\" class=\"dataframe\">\n",
       "  <thead>\n",
       "    <tr style=\"text-align: right;\">\n",
       "      <th></th>\n",
       "      <th>Name</th>\n",
       "      <th>Miles_per_Gallon</th>\n",
       "      <th>Cylinders</th>\n",
       "      <th>Displacement</th>\n",
       "      <th>Horsepower</th>\n",
       "      <th>Weight_in_lbs</th>\n",
       "      <th>Acceleration</th>\n",
       "      <th>Year</th>\n",
       "      <th>Origin</th>\n",
       "    </tr>\n",
       "  </thead>\n",
       "  <tbody>\n",
       "    <tr>\n",
       "      <th>0</th>\n",
       "      <td>chevrolet chevelle malibu</td>\n",
       "      <td>18.0</td>\n",
       "      <td>8</td>\n",
       "      <td>307.0</td>\n",
       "      <td>130.0</td>\n",
       "      <td>3504</td>\n",
       "      <td>12.0</td>\n",
       "      <td>1970-01-01</td>\n",
       "      <td>USA</td>\n",
       "    </tr>\n",
       "    <tr>\n",
       "      <th>1</th>\n",
       "      <td>buick skylark 320</td>\n",
       "      <td>15.0</td>\n",
       "      <td>8</td>\n",
       "      <td>350.0</td>\n",
       "      <td>165.0</td>\n",
       "      <td>3693</td>\n",
       "      <td>11.5</td>\n",
       "      <td>1970-01-01</td>\n",
       "      <td>USA</td>\n",
       "    </tr>\n",
       "    <tr>\n",
       "      <th>2</th>\n",
       "      <td>plymouth satellite</td>\n",
       "      <td>18.0</td>\n",
       "      <td>8</td>\n",
       "      <td>318.0</td>\n",
       "      <td>150.0</td>\n",
       "      <td>3436</td>\n",
       "      <td>11.0</td>\n",
       "      <td>1970-01-01</td>\n",
       "      <td>USA</td>\n",
       "    </tr>\n",
       "  </tbody>\n",
       "</table>\n",
       "</div>"
      ],
      "text/plain": [
       "                        Name  Miles_per_Gallon  Cylinders  Displacement  \\\n",
       "0  chevrolet chevelle malibu              18.0          8         307.0   \n",
       "1          buick skylark 320              15.0          8         350.0   \n",
       "2         plymouth satellite              18.0          8         318.0   \n",
       "\n",
       "   Horsepower  Weight_in_lbs  Acceleration        Year Origin  \n",
       "0       130.0           3504          12.0  1970-01-01    USA  \n",
       "1       165.0           3693          11.5  1970-01-01    USA  \n",
       "2       150.0           3436          11.0  1970-01-01    USA  "
      ]
     },
     "execution_count": 181,
     "metadata": {},
     "output_type": "execute_result"
    }
   ],
   "source": [
    "url = 'https://raw.githubusercontent.com/vega/vega-datasets/master/data/cars.json'\n",
    "response = urllib.request.urlopen(url)  # Fetch data from URL\n",
    "data = response.read().decode()  # Decode data to string\n",
    "car_data1 = pd.read_json(data)  # Load JSON data into DataFrame\n",
    "car_data1.head(3)"
   ]
  },
  {
   "cell_type": "markdown",
   "id": "04f016a0-1b83-4abf-922e-c2f3ecc0050e",
   "metadata": {},
   "source": [
    "### Briefly describtion about the first dataset"
   ]
  },
  {
   "cell_type": "markdown",
   "id": "5f02ab17-46e8-4169-a873-22e5ae2ca65a",
   "metadata": {},
   "source": [
    "This dataset provides information on various car models, including their specifications and origin. Each row represents a unique car model with the following attributes:\n",
    "\n",
    "* Name: The name of the car model.\n",
    "* Miles_per_Gallon: The fuel efficiency of the car, measured in miles per gallon (MPG).\n",
    "* Cylinders: The number of cylinders in the car's engine.\n",
    "* Displacement: The engine's displacement in cubic inches.\n",
    "* Horsepower: The engine's power output, measured in horsepower.\n",
    "* Weight_in_lbs: The weight of the car in pounds.\n",
    "* Acceleration: The time it takes for the car to accelerate from 0 to 60 mph, measured in seconds.\n",
    "* Year: The year the car model was manufactured.\n",
    "* Origin: The country where the car was manufactured (e.g., USA)."
   ]
  },
  {
   "cell_type": "markdown",
   "id": "2e8ef32c-e9ae-4aa8-b882-d1ced4b140e9",
   "metadata": {},
   "source": [
    "#### Secound dataset about a cars taken from xlsx file from kaggle [2009 New Car Information](https://www.kaggle.com/datasets/gagankattula/2009-new-car-information)"
   ]
  },
  {
   "cell_type": "code",
   "execution_count": 182,
   "id": "799d0854-80a2-49b9-84d1-f050c9acd729",
   "metadata": {},
   "outputs": [
    {
     "data": {
      "text/html": [
       "<div>\n",
       "<style scoped>\n",
       "    .dataframe tbody tr th:only-of-type {\n",
       "        vertical-align: middle;\n",
       "    }\n",
       "\n",
       "    .dataframe tbody tr th {\n",
       "        vertical-align: top;\n",
       "    }\n",
       "\n",
       "    .dataframe thead th {\n",
       "        text-align: right;\n",
       "    }\n",
       "</style>\n",
       "<table border=\"1\" class=\"dataframe\">\n",
       "  <thead>\n",
       "    <tr style=\"text-align: right;\">\n",
       "      <th></th>\n",
       "      <th>Model</th>\n",
       "      <th>Vehicle</th>\n",
       "      <th>Type</th>\n",
       "      <th>Origin</th>\n",
       "      <th>Seats</th>\n",
       "      <th>Drive</th>\n",
       "      <th>Engine</th>\n",
       "      <th>Cylinders</th>\n",
       "      <th>Horsepower</th>\n",
       "      <th>Mileage Overall</th>\n",
       "      <th>...</th>\n",
       "      <th>CrashDriver</th>\n",
       "      <th>CrashPassenger</th>\n",
       "      <th>SideCrashDriver</th>\n",
       "      <th>SideCrashPassenger</th>\n",
       "      <th>Frontal Offset-IIHS</th>\n",
       "      <th>Side-IIHS</th>\n",
       "      <th>Rollover Rating</th>\n",
       "      <th>Price</th>\n",
       "      <th>Category</th>\n",
       "      <th>Unnamed: 43</th>\n",
       "    </tr>\n",
       "  </thead>\n",
       "  <tbody>\n",
       "    <tr>\n",
       "      <th>0</th>\n",
       "      <td>Acura MDX</td>\n",
       "      <td>sport utility</td>\n",
       "      <td>luxury sport utility</td>\n",
       "      <td>Asia</td>\n",
       "      <td>7.0</td>\n",
       "      <td>all</td>\n",
       "      <td>3.7</td>\n",
       "      <td>6.0</td>\n",
       "      <td>305.0</td>\n",
       "      <td>17.0</td>\n",
       "      <td>...</td>\n",
       "      <td>5</td>\n",
       "      <td>5</td>\n",
       "      <td>5</td>\n",
       "      <td>5.0</td>\n",
       "      <td>good</td>\n",
       "      <td>good</td>\n",
       "      <td>good</td>\n",
       "      <td>47000.0</td>\n",
       "      <td>0.0</td>\n",
       "      <td>NaN</td>\n",
       "    </tr>\n",
       "    <tr>\n",
       "      <th>1</th>\n",
       "      <td>Acura RDX</td>\n",
       "      <td>sport utility</td>\n",
       "      <td>small sport utility</td>\n",
       "      <td>Asia</td>\n",
       "      <td>5.0</td>\n",
       "      <td>all</td>\n",
       "      <td>2.3</td>\n",
       "      <td>4.0</td>\n",
       "      <td>240.0</td>\n",
       "      <td>18.0</td>\n",
       "      <td>...</td>\n",
       "      <td>5</td>\n",
       "      <td>5</td>\n",
       "      <td>5</td>\n",
       "      <td>5.0</td>\n",
       "      <td>good</td>\n",
       "      <td>good</td>\n",
       "      <td>good</td>\n",
       "      <td>37000.0</td>\n",
       "      <td>0.0</td>\n",
       "      <td>NaN</td>\n",
       "    </tr>\n",
       "    <tr>\n",
       "      <th>2</th>\n",
       "      <td>Acura RL</td>\n",
       "      <td>car</td>\n",
       "      <td>luxury car</td>\n",
       "      <td>Asia</td>\n",
       "      <td>5.0</td>\n",
       "      <td>all</td>\n",
       "      <td>3.5</td>\n",
       "      <td>6.0</td>\n",
       "      <td>300.0</td>\n",
       "      <td>18.0</td>\n",
       "      <td>...</td>\n",
       "      <td>5</td>\n",
       "      <td>5</td>\n",
       "      <td>5</td>\n",
       "      <td>5.0</td>\n",
       "      <td>good</td>\n",
       "      <td>good</td>\n",
       "      <td>excellent</td>\n",
       "      <td>53000.0</td>\n",
       "      <td>0.0</td>\n",
       "      <td>NaN</td>\n",
       "    </tr>\n",
       "  </tbody>\n",
       "</table>\n",
       "<p>3 rows × 44 columns</p>\n",
       "</div>"
      ],
      "text/plain": [
       "       Model        Vehicle                  Type Origin  Seats Drive  Engine  \\\n",
       "0  Acura MDX  sport utility  luxury sport utility   Asia    7.0   all     3.7   \n",
       "1  Acura RDX  sport utility   small sport utility   Asia    5.0   all     2.3   \n",
       "2   Acura RL            car            luxury car   Asia    5.0   all     3.5   \n",
       "\n",
       "   Cylinders  Horsepower  Mileage Overall  ...  CrashDriver  CrashPassenger  \\\n",
       "0        6.0       305.0             17.0  ...            5               5   \n",
       "1        4.0       240.0             18.0  ...            5               5   \n",
       "2        6.0       300.0             18.0  ...            5               5   \n",
       "\n",
       "   SideCrashDriver  SideCrashPassenger  Frontal Offset-IIHS  Side-IIHS  \\\n",
       "0                5                 5.0                 good       good   \n",
       "1                5                 5.0                 good       good   \n",
       "2                5                 5.0                 good       good   \n",
       "\n",
       "   Rollover Rating    Price  Category  Unnamed: 43  \n",
       "0             good  47000.0       0.0          NaN  \n",
       "1             good  37000.0       0.0          NaN  \n",
       "2        excellent  53000.0       0.0          NaN  \n",
       "\n",
       "[3 rows x 44 columns]"
      ]
     },
     "execution_count": 182,
     "metadata": {},
     "output_type": "execute_result"
    }
   ],
   "source": [
    "car_data2 = pd.read_excel('DataSets/CarDataSets.xlsx') # Read the exist xlsx file\n",
    "car_data2.head(3)"
   ]
  },
  {
   "cell_type": "markdown",
   "id": "00f5dcfd-151a-4912-bff2-826429420fbc",
   "metadata": {},
   "source": [
    "### Briefly describtion about the secound dataset"
   ]
  },
  {
   "cell_type": "markdown",
   "id": "dce9ad5b-d564-4d1e-8064-a65964444deb",
   "metadata": {},
   "source": [
    "This dataset provides detailed information on various car models, including specifications, performance metrics, and safety ratings. The dataset consists of 302 entries and 44 columns, with some missing values. Each row represents a unique car model with the following attributes:\n",
    "\n",
    "* Model: Name of the car model.\n",
    "* Vehicle: Type of vehicle (e.g., sedan, SUV).\n",
    "* Type: Vehicle classification (e.g., compact, mid-size).\n",
    "* Origin: Country where the car was manufactured.\n",
    "* Seats: Number of seats in the car.\n",
    "* Drive: Type of drivetrain (e.g., FWD, RWD).\n",
    "* Engine: Engine size in liters.\n",
    "* Cylinders: Number of cylinders in the engine.\n",
    "* Horsepower: Engine power output in horsepower.\n",
    "* Mileage Overall: Combined fuel efficiency in miles per gallon.\n",
    "* Mileage Highway: Highway fuel efficiency in miles per gallon.\n",
    "* Mileage City: City fuel efficiency in miles per gallon.\n",
    "* Zero-60 (sec): Time taken to accelerate from 0 to 60 mph.\n",
    "* Braking Dry (ft): Braking distance on dry surfaces in feet.\n",
    "* Braking Wet (ft): Braking distance on wet surfaces in feet.\n",
    "* Avoidance Maneuver (mph): Speed during avoidance maneuvers.\n",
    "* Length: Length of the car in inches.\n",
    "* Width: Width of the car in inches.\n",
    "* Height: Height of the car in inches.\n",
    "* Wheelbase: Distance between the front and rear axles in inches.\n",
    "* Turning Circle: Diameter of the turning circle in feet.\n",
    "* Weight: Weight of the car in pounds.\n",
    "* Max Load: Maximum load capacity in pounds.\n",
    "* Cargo Volume: Cargo volume in cubic feet.\n",
    "* Front Shoulder: Front shoulder room in inches.\n",
    "* Front Leg Room: Front legroom in inches.\n",
    "* Front Head Room: Front headroom in inches.\n",
    "* Rear Shoulder: Rear shoulder room in inches.\n",
    "* Rear Leg Room: Rear legroom in inches.\n",
    "* Rear Head Room: Rear headroom in inches.\n",
    "* Reliable: Reliability rating of the car.\n",
    "* Satisfaction: Owner satisfaction rating.\n",
    "* Routine Handling: Rating of the car's routine handling.\n",
    "* Emergency Handling: Rating of the car's emergency handling.\n",
    "* CrashDriver: Driver safety rating in crash tests.\n",
    "* CrashPassenger: Passenger safety rating in crash tests.\n",
    "* SideCrashDriver: Driver safety rating in side crash tests.\n",
    "* SideCrashPassenger: Passenger safety rating in side crash tests.\n",
    "* Frontal Offset-IIHS: Frontal offset crash rating by IIHS.\n",
    "* Side-IIHS: Side crash rating by IIHS.\n",
    "* Rollover Rating: Rollover safety rating.\n",
    "* Price: Price of the car in dollars.\n",
    "* Category: Category rating of the car.\n",
    "* Unnamed: 43: An extra column with mostly null values."
   ]
  },
  {
   "cell_type": "markdown",
   "id": "97aa89e0-905f-41a7-97c4-a1f7c423b98f",
   "metadata": {},
   "source": [
    "#### After gathering the data we most save it as csv after cleaning and combining the data :"
   ]
  },
  {
   "cell_type": "code",
   "execution_count": 183,
   "id": "05d6991c-fb9f-45d8-85d3-7454ec4d5847",
   "metadata": {},
   "outputs": [],
   "source": [
    "car_data1.to_csv('DataSets/CarData1.csv', index=False) # Save the uncleand dataset1\n",
    "car_data2.to_csv('DataSets/CarData2.csv', index=False) # Save the uncleand dataset2"
   ]
  },
  {
   "cell_type": "markdown",
   "id": "56544a7c-3c40-4fbe-92ad-05847d7f6509",
   "metadata": {},
   "source": [
    "## 2. Assess the data"
   ]
  },
  {
   "cell_type": "markdown",
   "id": "160a8c91-76f0-4350-b5da-cb5eb47721ec",
   "metadata": {},
   "source": [
    "#### Now we most assessing the datasets to know how to handle the data and clean it to be a tidy data"
   ]
  },
  {
   "cell_type": "markdown",
   "id": "6d786633-a3f2-4fbd-bcab-a4db6f3dd520",
   "metadata": {},
   "source": [
    "#### Checking the data types "
   ]
  },
  {
   "cell_type": "code",
   "execution_count": 184,
   "id": "d8d80fe2-34f3-4eda-bcce-f22e187ffe81",
   "metadata": {},
   "outputs": [
    {
     "name": "stdout",
     "output_type": "stream",
     "text": [
      "<class 'pandas.core.frame.DataFrame'>\n",
      "RangeIndex: 406 entries, 0 to 405\n",
      "Data columns (total 9 columns):\n",
      " #   Column            Non-Null Count  Dtype  \n",
      "---  ------            --------------  -----  \n",
      " 0   Name              406 non-null    object \n",
      " 1   Miles_per_Gallon  398 non-null    float64\n",
      " 2   Cylinders         406 non-null    int64  \n",
      " 3   Displacement      406 non-null    float64\n",
      " 4   Horsepower        400 non-null    float64\n",
      " 5   Weight_in_lbs     406 non-null    int64  \n",
      " 6   Acceleration      406 non-null    float64\n",
      " 7   Year              406 non-null    object \n",
      " 8   Origin            406 non-null    object \n",
      "dtypes: float64(4), int64(2), object(3)\n",
      "memory usage: 28.7+ KB\n"
     ]
    }
   ],
   "source": [
    "car_data1.info() # See the data types and number of data points"
   ]
  },
  {
   "cell_type": "markdown",
   "id": "72fd6fad-b2d4-4c50-9c9a-6da82021c2fe",
   "metadata": {},
   "source": [
    "#### Check if there is null values"
   ]
  },
  {
   "cell_type": "code",
   "execution_count": 185,
   "id": "715e90f3-f895-4352-8fce-e36cafd45680",
   "metadata": {},
   "outputs": [
    {
     "data": {
      "text/plain": [
       "Name                0\n",
       "Miles_per_Gallon    8\n",
       "Cylinders           0\n",
       "Displacement        0\n",
       "Horsepower          6\n",
       "Weight_in_lbs       0\n",
       "Acceleration        0\n",
       "Year                0\n",
       "Origin              0\n",
       "dtype: int64"
      ]
     },
     "execution_count": 185,
     "metadata": {},
     "output_type": "execute_result"
    }
   ],
   "source": [
    "car_data1.isna().sum() # See the number of nulls"
   ]
  },
  {
   "cell_type": "markdown",
   "id": "14d68dd1-ae14-4259-8e95-1b9f4ae87518",
   "metadata": {},
   "source": [
    "#### Check if there is duplicated observation"
   ]
  },
  {
   "cell_type": "code",
   "execution_count": 186,
   "id": "01972e9c-81a7-40de-b97f-549170aeca84",
   "metadata": {},
   "outputs": [
    {
     "data": {
      "text/plain": [
       "0"
      ]
     },
     "execution_count": 186,
     "metadata": {},
     "output_type": "execute_result"
    }
   ],
   "source": [
    "car_data1.duplicated().sum()"
   ]
  },
  {
   "cell_type": "markdown",
   "id": "55dd180c-7fd2-402d-9209-405a11244a73",
   "metadata": {},
   "source": [
    "#### See description of the dataset1"
   ]
  },
  {
   "cell_type": "code",
   "execution_count": 187,
   "id": "e98e9245-8b6a-4cfa-920e-85f100d1b8eb",
   "metadata": {},
   "outputs": [
    {
     "data": {
      "text/html": [
       "<div>\n",
       "<style scoped>\n",
       "    .dataframe tbody tr th:only-of-type {\n",
       "        vertical-align: middle;\n",
       "    }\n",
       "\n",
       "    .dataframe tbody tr th {\n",
       "        vertical-align: top;\n",
       "    }\n",
       "\n",
       "    .dataframe thead th {\n",
       "        text-align: right;\n",
       "    }\n",
       "</style>\n",
       "<table border=\"1\" class=\"dataframe\">\n",
       "  <thead>\n",
       "    <tr style=\"text-align: right;\">\n",
       "      <th></th>\n",
       "      <th>Miles_per_Gallon</th>\n",
       "      <th>Cylinders</th>\n",
       "      <th>Displacement</th>\n",
       "      <th>Horsepower</th>\n",
       "      <th>Weight_in_lbs</th>\n",
       "      <th>Acceleration</th>\n",
       "    </tr>\n",
       "  </thead>\n",
       "  <tbody>\n",
       "    <tr>\n",
       "      <th>count</th>\n",
       "      <td>398.000000</td>\n",
       "      <td>406.000000</td>\n",
       "      <td>406.000000</td>\n",
       "      <td>400.000000</td>\n",
       "      <td>406.000000</td>\n",
       "      <td>406.000000</td>\n",
       "    </tr>\n",
       "    <tr>\n",
       "      <th>mean</th>\n",
       "      <td>23.514573</td>\n",
       "      <td>5.475369</td>\n",
       "      <td>194.779557</td>\n",
       "      <td>105.082500</td>\n",
       "      <td>2979.413793</td>\n",
       "      <td>15.519704</td>\n",
       "    </tr>\n",
       "    <tr>\n",
       "      <th>std</th>\n",
       "      <td>7.815984</td>\n",
       "      <td>1.712160</td>\n",
       "      <td>104.922458</td>\n",
       "      <td>38.768779</td>\n",
       "      <td>847.004328</td>\n",
       "      <td>2.803359</td>\n",
       "    </tr>\n",
       "    <tr>\n",
       "      <th>min</th>\n",
       "      <td>9.000000</td>\n",
       "      <td>3.000000</td>\n",
       "      <td>68.000000</td>\n",
       "      <td>46.000000</td>\n",
       "      <td>1613.000000</td>\n",
       "      <td>8.000000</td>\n",
       "    </tr>\n",
       "    <tr>\n",
       "      <th>25%</th>\n",
       "      <td>17.500000</td>\n",
       "      <td>4.000000</td>\n",
       "      <td>105.000000</td>\n",
       "      <td>75.750000</td>\n",
       "      <td>2226.500000</td>\n",
       "      <td>13.700000</td>\n",
       "    </tr>\n",
       "    <tr>\n",
       "      <th>50%</th>\n",
       "      <td>23.000000</td>\n",
       "      <td>4.000000</td>\n",
       "      <td>151.000000</td>\n",
       "      <td>95.000000</td>\n",
       "      <td>2822.500000</td>\n",
       "      <td>15.500000</td>\n",
       "    </tr>\n",
       "    <tr>\n",
       "      <th>75%</th>\n",
       "      <td>29.000000</td>\n",
       "      <td>8.000000</td>\n",
       "      <td>302.000000</td>\n",
       "      <td>130.000000</td>\n",
       "      <td>3618.250000</td>\n",
       "      <td>17.175000</td>\n",
       "    </tr>\n",
       "    <tr>\n",
       "      <th>max</th>\n",
       "      <td>46.600000</td>\n",
       "      <td>8.000000</td>\n",
       "      <td>455.000000</td>\n",
       "      <td>230.000000</td>\n",
       "      <td>5140.000000</td>\n",
       "      <td>24.800000</td>\n",
       "    </tr>\n",
       "  </tbody>\n",
       "</table>\n",
       "</div>"
      ],
      "text/plain": [
       "       Miles_per_Gallon   Cylinders  Displacement  Horsepower  Weight_in_lbs  \\\n",
       "count        398.000000  406.000000    406.000000  400.000000     406.000000   \n",
       "mean          23.514573    5.475369    194.779557  105.082500    2979.413793   \n",
       "std            7.815984    1.712160    104.922458   38.768779     847.004328   \n",
       "min            9.000000    3.000000     68.000000   46.000000    1613.000000   \n",
       "25%           17.500000    4.000000    105.000000   75.750000    2226.500000   \n",
       "50%           23.000000    4.000000    151.000000   95.000000    2822.500000   \n",
       "75%           29.000000    8.000000    302.000000  130.000000    3618.250000   \n",
       "max           46.600000    8.000000    455.000000  230.000000    5140.000000   \n",
       "\n",
       "       Acceleration  \n",
       "count    406.000000  \n",
       "mean      15.519704  \n",
       "std        2.803359  \n",
       "min        8.000000  \n",
       "25%       13.700000  \n",
       "50%       15.500000  \n",
       "75%       17.175000  \n",
       "max       24.800000  "
      ]
     },
     "execution_count": 187,
     "metadata": {},
     "output_type": "execute_result"
    }
   ],
   "source": [
    "car_data1.describe() # See a describtion of the data before cleaning "
   ]
  },
  {
   "cell_type": "markdown",
   "id": "7e603675-fef7-45d4-87a6-d36ec9bb9f74",
   "metadata": {},
   "source": [
    "#### Checking the data types"
   ]
  },
  {
   "cell_type": "code",
   "execution_count": 188,
   "id": "3b633cb9-1175-4221-bd2f-dcbfd6cd9db6",
   "metadata": {},
   "outputs": [
    {
     "name": "stdout",
     "output_type": "stream",
     "text": [
      "<class 'pandas.core.frame.DataFrame'>\n",
      "RangeIndex: 302 entries, 0 to 301\n",
      "Data columns (total 44 columns):\n",
      " #   Column                    Non-Null Count  Dtype  \n",
      "---  ------                    --------------  -----  \n",
      " 0   Model                     299 non-null    object \n",
      " 1   Vehicle                   299 non-null    object \n",
      " 2   Type                      299 non-null    object \n",
      " 3   Origin                    299 non-null    object \n",
      " 4   Seats                     299 non-null    float64\n",
      " 5   Drive                     299 non-null    object \n",
      " 6   Engine                    299 non-null    float64\n",
      " 7   Cylinders                 299 non-null    float64\n",
      " 8   Horsepower                299 non-null    float64\n",
      " 9   Mileage Overall           273 non-null    float64\n",
      " 10  Mileage Highway           230 non-null    float64\n",
      " 11  Mileage City              230 non-null    float64\n",
      " 12  Zero-60 (sec)             272 non-null    float64\n",
      " 13  Braking Dry (ft)          272 non-null    float64\n",
      " 14  Braking Wet (ft)          230 non-null    float64\n",
      " 15  Avoidance Maneuver (mph)  269 non-null    float64\n",
      " 16  Length                    299 non-null    float64\n",
      " 17  Width                     299 non-null    float64\n",
      " 18  Height                    298 non-null    float64\n",
      " 19  Wheelbase                 299 non-null    float64\n",
      " 20  Turning Circle            276 non-null    float64\n",
      " 21  Weight                    296 non-null    float64\n",
      " 22  Max Load                  285 non-null    float64\n",
      " 23  Cargo Volume              253 non-null    float64\n",
      " 24  Front Shoulder            294 non-null    float64\n",
      " 25  Front Leg Room            278 non-null    float64\n",
      " 26  Front Head Room           279 non-null    float64\n",
      " 27  Rear Shoulder             275 non-null    float64\n",
      " 28  Rear Leg Room             261 non-null    float64\n",
      " 29  Rear Head Room            261 non-null    float64\n",
      " 30  Reliable                  251 non-null    object \n",
      " 31  Satisfaction              234 non-null    object \n",
      " 32  Routine Handling          210 non-null    object \n",
      " 33  Emergency Handling        213 non-null    object \n",
      " 34  CrashDriver               243 non-null    object \n",
      " 35  CrashPassenger            244 non-null    object \n",
      " 36  SideCrashDriver           220 non-null    object \n",
      " 37  SideCrashPassenger        204 non-null    float64\n",
      " 38  Frontal Offset-IIHS       196 non-null    object \n",
      " 39  Side-IIHS                 168 non-null    object \n",
      " 40  Rollover Rating           213 non-null    object \n",
      " 41  Price                     299 non-null    float64\n",
      " 42  Category                  299 non-null    float64\n",
      " 43  Unnamed: 43               1 non-null      object \n",
      "dtypes: float64(28), object(16)\n",
      "memory usage: 103.9+ KB\n"
     ]
    }
   ],
   "source": [
    "car_data2.info() # See the data types and number of data points"
   ]
  },
  {
   "cell_type": "markdown",
   "id": "8ac557a1-d592-4168-b654-f21c3308e138",
   "metadata": {},
   "source": [
    "#### Check if there is null values for dataset 2"
   ]
  },
  {
   "cell_type": "code",
   "execution_count": 189,
   "id": "3e5d5479-561a-4fe1-8d92-b1348bce7be5",
   "metadata": {},
   "outputs": [
    {
     "data": {
      "text/plain": [
       "Model                         3\n",
       "Vehicle                       3\n",
       "Type                          3\n",
       "Origin                        3\n",
       "Seats                         3\n",
       "Drive                         3\n",
       "Engine                        3\n",
       "Cylinders                     3\n",
       "Horsepower                    3\n",
       "Mileage Overall              29\n",
       "Mileage Highway              72\n",
       "Mileage City                 72\n",
       "Zero-60 (sec)                30\n",
       "Braking Dry (ft)             30\n",
       "Braking Wet (ft)             72\n",
       "Avoidance Maneuver (mph)     33\n",
       "Length                        3\n",
       "Width                         3\n",
       "Height                        4\n",
       "Wheelbase                     3\n",
       "Turning Circle               26\n",
       "Weight                        6\n",
       "Max Load                     17\n",
       "Cargo Volume                 49\n",
       "Front Shoulder                8\n",
       "Front Leg Room               24\n",
       "Front Head Room              23\n",
       "Rear Shoulder                27\n",
       "Rear Leg Room                41\n",
       "Rear Head Room               41\n",
       "Reliable                     51\n",
       "Satisfaction                 68\n",
       "Routine Handling             92\n",
       "Emergency Handling           89\n",
       "CrashDriver                  59\n",
       "CrashPassenger               58\n",
       "SideCrashDriver              82\n",
       "SideCrashPassenger           98\n",
       "Frontal Offset-IIHS         106\n",
       "Side-IIHS                   134\n",
       "Rollover Rating              89\n",
       "Price                         3\n",
       "Category                      3\n",
       "Unnamed: 43                 301\n",
       "dtype: int64"
      ]
     },
     "execution_count": 189,
     "metadata": {},
     "output_type": "execute_result"
    }
   ],
   "source": [
    "car_data2.isna().sum() # See the number of nulls"
   ]
  },
  {
   "cell_type": "markdown",
   "id": "b1cb7d02-3c29-4eaa-9820-094add7bc669",
   "metadata": {},
   "source": [
    "#### Check if there is duplicated observation"
   ]
  },
  {
   "cell_type": "code",
   "execution_count": 190,
   "id": "51a46b60-ed0c-491f-9793-9857b6ae88dc",
   "metadata": {},
   "outputs": [
    {
     "data": {
      "text/plain": [
       "1"
      ]
     },
     "execution_count": 190,
     "metadata": {},
     "output_type": "execute_result"
    }
   ],
   "source": [
    "car_data2.duplicated().sum()"
   ]
  },
  {
   "cell_type": "markdown",
   "id": "ec7a55e7-0dd3-4d3e-a404-5838eae7702a",
   "metadata": {},
   "source": [
    "#### See description of the dataset2"
   ]
  },
  {
   "cell_type": "code",
   "execution_count": 191,
   "id": "14aca00b-158b-47fe-b95c-d4a66b2060e1",
   "metadata": {},
   "outputs": [
    {
     "data": {
      "text/html": [
       "<div>\n",
       "<style scoped>\n",
       "    .dataframe tbody tr th:only-of-type {\n",
       "        vertical-align: middle;\n",
       "    }\n",
       "\n",
       "    .dataframe tbody tr th {\n",
       "        vertical-align: top;\n",
       "    }\n",
       "\n",
       "    .dataframe thead th {\n",
       "        text-align: right;\n",
       "    }\n",
       "</style>\n",
       "<table border=\"1\" class=\"dataframe\">\n",
       "  <thead>\n",
       "    <tr style=\"text-align: right;\">\n",
       "      <th></th>\n",
       "      <th>Seats</th>\n",
       "      <th>Engine</th>\n",
       "      <th>Cylinders</th>\n",
       "      <th>Horsepower</th>\n",
       "      <th>Mileage Overall</th>\n",
       "      <th>Mileage Highway</th>\n",
       "      <th>Mileage City</th>\n",
       "      <th>Zero-60 (sec)</th>\n",
       "      <th>Braking Dry (ft)</th>\n",
       "      <th>Braking Wet (ft)</th>\n",
       "      <th>...</th>\n",
       "      <th>Cargo Volume</th>\n",
       "      <th>Front Shoulder</th>\n",
       "      <th>Front Leg Room</th>\n",
       "      <th>Front Head Room</th>\n",
       "      <th>Rear Shoulder</th>\n",
       "      <th>Rear Leg Room</th>\n",
       "      <th>Rear Head Room</th>\n",
       "      <th>SideCrashPassenger</th>\n",
       "      <th>Price</th>\n",
       "      <th>Category</th>\n",
       "    </tr>\n",
       "  </thead>\n",
       "  <tbody>\n",
       "    <tr>\n",
       "      <th>count</th>\n",
       "      <td>299.000000</td>\n",
       "      <td>299.000000</td>\n",
       "      <td>299.000000</td>\n",
       "      <td>299.000000</td>\n",
       "      <td>273.000000</td>\n",
       "      <td>230.000000</td>\n",
       "      <td>230.000000</td>\n",
       "      <td>272.000000</td>\n",
       "      <td>272.000000</td>\n",
       "      <td>230.000000</td>\n",
       "      <td>...</td>\n",
       "      <td>253.000000</td>\n",
       "      <td>294.000000</td>\n",
       "      <td>278.000000</td>\n",
       "      <td>279.000000</td>\n",
       "      <td>275.000000</td>\n",
       "      <td>261.000000</td>\n",
       "      <td>261.000000</td>\n",
       "      <td>204.000000</td>\n",
       "      <td>299.000000</td>\n",
       "      <td>299.000000</td>\n",
       "    </tr>\n",
       "    <tr>\n",
       "      <th>mean</th>\n",
       "      <td>5.220736</td>\n",
       "      <td>3.383278</td>\n",
       "      <td>5.804682</td>\n",
       "      <td>240.100334</td>\n",
       "      <td>19.886447</td>\n",
       "      <td>27.686957</td>\n",
       "      <td>13.495652</td>\n",
       "      <td>8.444118</td>\n",
       "      <td>137.897059</td>\n",
       "      <td>151.773913</td>\n",
       "      <td>...</td>\n",
       "      <td>25.812253</td>\n",
       "      <td>56.853741</td>\n",
       "      <td>41.088129</td>\n",
       "      <td>3.878136</td>\n",
       "      <td>55.603636</td>\n",
       "      <td>27.998084</td>\n",
       "      <td>3.218391</td>\n",
       "      <td>4.730392</td>\n",
       "      <td>37655.518395</td>\n",
       "      <td>0.043478</td>\n",
       "    </tr>\n",
       "    <tr>\n",
       "      <th>std</th>\n",
       "      <td>1.249740</td>\n",
       "      <td>1.140935</td>\n",
       "      <td>1.418683</td>\n",
       "      <td>69.613723</td>\n",
       "      <td>5.090894</td>\n",
       "      <td>5.794690</td>\n",
       "      <td>3.855182</td>\n",
       "      <td>2.090384</td>\n",
       "      <td>8.965518</td>\n",
       "      <td>14.614440</td>\n",
       "      <td>...</td>\n",
       "      <td>15.994956</td>\n",
       "      <td>3.623591</td>\n",
       "      <td>0.899440</td>\n",
       "      <td>1.196302</td>\n",
       "      <td>5.739095</td>\n",
       "      <td>2.341309</td>\n",
       "      <td>1.465700</td>\n",
       "      <td>0.526030</td>\n",
       "      <td>18292.507579</td>\n",
       "      <td>0.204273</td>\n",
       "    </tr>\n",
       "    <tr>\n",
       "      <th>min</th>\n",
       "      <td>2.000000</td>\n",
       "      <td>1.000000</td>\n",
       "      <td>1.300000</td>\n",
       "      <td>71.000000</td>\n",
       "      <td>10.000000</td>\n",
       "      <td>14.000000</td>\n",
       "      <td>7.000000</td>\n",
       "      <td>4.200000</td>\n",
       "      <td>112.000000</td>\n",
       "      <td>123.000000</td>\n",
       "      <td>...</td>\n",
       "      <td>2.000000</td>\n",
       "      <td>43.500000</td>\n",
       "      <td>38.000000</td>\n",
       "      <td>1.500000</td>\n",
       "      <td>18.000000</td>\n",
       "      <td>17.000000</td>\n",
       "      <td>0.000000</td>\n",
       "      <td>3.000000</td>\n",
       "      <td>14000.000000</td>\n",
       "      <td>0.000000</td>\n",
       "    </tr>\n",
       "    <tr>\n",
       "      <th>25%</th>\n",
       "      <td>5.000000</td>\n",
       "      <td>2.500000</td>\n",
       "      <td>4.000000</td>\n",
       "      <td>200.000000</td>\n",
       "      <td>17.000000</td>\n",
       "      <td>24.000000</td>\n",
       "      <td>11.000000</td>\n",
       "      <td>7.300000</td>\n",
       "      <td>132.750000</td>\n",
       "      <td>142.250000</td>\n",
       "      <td>...</td>\n",
       "      <td>14.000000</td>\n",
       "      <td>54.500000</td>\n",
       "      <td>40.500000</td>\n",
       "      <td>3.000000</td>\n",
       "      <td>53.000000</td>\n",
       "      <td>27.000000</td>\n",
       "      <td>2.000000</td>\n",
       "      <td>5.000000</td>\n",
       "      <td>26000.000000</td>\n",
       "      <td>0.000000</td>\n",
       "    </tr>\n",
       "    <tr>\n",
       "      <th>50%</th>\n",
       "      <td>5.000000</td>\n",
       "      <td>3.500000</td>\n",
       "      <td>6.000000</td>\n",
       "      <td>242.000000</td>\n",
       "      <td>19.000000</td>\n",
       "      <td>27.000000</td>\n",
       "      <td>13.000000</td>\n",
       "      <td>8.300000</td>\n",
       "      <td>137.000000</td>\n",
       "      <td>150.500000</td>\n",
       "      <td>...</td>\n",
       "      <td>18.000000</td>\n",
       "      <td>57.000000</td>\n",
       "      <td>41.000000</td>\n",
       "      <td>3.500000</td>\n",
       "      <td>56.000000</td>\n",
       "      <td>28.000000</td>\n",
       "      <td>3.500000</td>\n",
       "      <td>5.000000</td>\n",
       "      <td>33000.000000</td>\n",
       "      <td>0.000000</td>\n",
       "    </tr>\n",
       "    <tr>\n",
       "      <th>75%</th>\n",
       "      <td>5.500000</td>\n",
       "      <td>3.800000</td>\n",
       "      <td>6.000000</td>\n",
       "      <td>275.000000</td>\n",
       "      <td>22.000000</td>\n",
       "      <td>31.000000</td>\n",
       "      <td>15.000000</td>\n",
       "      <td>9.225000</td>\n",
       "      <td>143.000000</td>\n",
       "      <td>158.000000</td>\n",
       "      <td>...</td>\n",
       "      <td>37.500000</td>\n",
       "      <td>58.500000</td>\n",
       "      <td>41.500000</td>\n",
       "      <td>4.500000</td>\n",
       "      <td>58.000000</td>\n",
       "      <td>29.500000</td>\n",
       "      <td>4.000000</td>\n",
       "      <td>5.000000</td>\n",
       "      <td>42000.000000</td>\n",
       "      <td>0.000000</td>\n",
       "    </tr>\n",
       "    <tr>\n",
       "      <th>max</th>\n",
       "      <td>9.000000</td>\n",
       "      <td>8.300000</td>\n",
       "      <td>10.000000</td>\n",
       "      <td>510.000000</td>\n",
       "      <td>51.000000</td>\n",
       "      <td>47.000000</td>\n",
       "      <td>34.000000</td>\n",
       "      <td>31.000000</td>\n",
       "      <td>161.000000</td>\n",
       "      <td>215.000000</td>\n",
       "      <td>...</td>\n",
       "      <td>75.500000</td>\n",
       "      <td>67.000000</td>\n",
       "      <td>44.000000</td>\n",
       "      <td>8.000000</td>\n",
       "      <td>67.000000</td>\n",
       "      <td>35.000000</td>\n",
       "      <td>8.500000</td>\n",
       "      <td>5.000000</td>\n",
       "      <td>135000.000000</td>\n",
       "      <td>1.000000</td>\n",
       "    </tr>\n",
       "  </tbody>\n",
       "</table>\n",
       "<p>8 rows × 28 columns</p>\n",
       "</div>"
      ],
      "text/plain": [
       "            Seats      Engine   Cylinders  Horsepower  Mileage Overall  \\\n",
       "count  299.000000  299.000000  299.000000  299.000000       273.000000   \n",
       "mean     5.220736    3.383278    5.804682  240.100334        19.886447   \n",
       "std      1.249740    1.140935    1.418683   69.613723         5.090894   \n",
       "min      2.000000    1.000000    1.300000   71.000000        10.000000   \n",
       "25%      5.000000    2.500000    4.000000  200.000000        17.000000   \n",
       "50%      5.000000    3.500000    6.000000  242.000000        19.000000   \n",
       "75%      5.500000    3.800000    6.000000  275.000000        22.000000   \n",
       "max      9.000000    8.300000   10.000000  510.000000        51.000000   \n",
       "\n",
       "       Mileage Highway  Mileage City  Zero-60 (sec)  Braking Dry (ft)  \\\n",
       "count       230.000000    230.000000     272.000000        272.000000   \n",
       "mean         27.686957     13.495652       8.444118        137.897059   \n",
       "std           5.794690      3.855182       2.090384          8.965518   \n",
       "min          14.000000      7.000000       4.200000        112.000000   \n",
       "25%          24.000000     11.000000       7.300000        132.750000   \n",
       "50%          27.000000     13.000000       8.300000        137.000000   \n",
       "75%          31.000000     15.000000       9.225000        143.000000   \n",
       "max          47.000000     34.000000      31.000000        161.000000   \n",
       "\n",
       "       Braking Wet (ft)  ...  Cargo Volume  Front Shoulder  Front Leg Room  \\\n",
       "count        230.000000  ...    253.000000      294.000000      278.000000   \n",
       "mean         151.773913  ...     25.812253       56.853741       41.088129   \n",
       "std           14.614440  ...     15.994956        3.623591        0.899440   \n",
       "min          123.000000  ...      2.000000       43.500000       38.000000   \n",
       "25%          142.250000  ...     14.000000       54.500000       40.500000   \n",
       "50%          150.500000  ...     18.000000       57.000000       41.000000   \n",
       "75%          158.000000  ...     37.500000       58.500000       41.500000   \n",
       "max          215.000000  ...     75.500000       67.000000       44.000000   \n",
       "\n",
       "       Front Head Room  Rear Shoulder  Rear Leg Room  Rear Head Room  \\\n",
       "count       279.000000     275.000000     261.000000      261.000000   \n",
       "mean          3.878136      55.603636      27.998084        3.218391   \n",
       "std           1.196302       5.739095       2.341309        1.465700   \n",
       "min           1.500000      18.000000      17.000000        0.000000   \n",
       "25%           3.000000      53.000000      27.000000        2.000000   \n",
       "50%           3.500000      56.000000      28.000000        3.500000   \n",
       "75%           4.500000      58.000000      29.500000        4.000000   \n",
       "max           8.000000      67.000000      35.000000        8.500000   \n",
       "\n",
       "       SideCrashPassenger          Price    Category  \n",
       "count          204.000000     299.000000  299.000000  \n",
       "mean             4.730392   37655.518395    0.043478  \n",
       "std              0.526030   18292.507579    0.204273  \n",
       "min              3.000000   14000.000000    0.000000  \n",
       "25%              5.000000   26000.000000    0.000000  \n",
       "50%              5.000000   33000.000000    0.000000  \n",
       "75%              5.000000   42000.000000    0.000000  \n",
       "max              5.000000  135000.000000    1.000000  \n",
       "\n",
       "[8 rows x 28 columns]"
      ]
     },
     "execution_count": 191,
     "metadata": {},
     "output_type": "execute_result"
    }
   ],
   "source": [
    "car_data2.describe() # See a describtion of the data before cleaning "
   ]
  },
  {
   "cell_type": "markdown",
   "id": "4f1f6cbf-84d3-47d6-9100-8d658ace93b4",
   "metadata": {},
   "source": [
    "### 1. First dataset from API is :"
   ]
  },
  {
   "cell_type": "code",
   "execution_count": 192,
   "id": "279e306a-4f71-4cf9-9802-be392787f630",
   "metadata": {},
   "outputs": [
    {
     "data": {
      "text/html": [
       "<div>\n",
       "<style scoped>\n",
       "    .dataframe tbody tr th:only-of-type {\n",
       "        vertical-align: middle;\n",
       "    }\n",
       "\n",
       "    .dataframe tbody tr th {\n",
       "        vertical-align: top;\n",
       "    }\n",
       "\n",
       "    .dataframe thead th {\n",
       "        text-align: right;\n",
       "    }\n",
       "</style>\n",
       "<table border=\"1\" class=\"dataframe\">\n",
       "  <thead>\n",
       "    <tr style=\"text-align: right;\">\n",
       "      <th></th>\n",
       "      <th>Name</th>\n",
       "      <th>Miles_per_Gallon</th>\n",
       "      <th>Cylinders</th>\n",
       "      <th>Displacement</th>\n",
       "      <th>Horsepower</th>\n",
       "      <th>Weight_in_lbs</th>\n",
       "      <th>Acceleration</th>\n",
       "      <th>Year</th>\n",
       "      <th>Origin</th>\n",
       "    </tr>\n",
       "  </thead>\n",
       "  <tbody>\n",
       "    <tr>\n",
       "      <th>0</th>\n",
       "      <td>chevrolet chevelle malibu</td>\n",
       "      <td>18.0</td>\n",
       "      <td>8</td>\n",
       "      <td>307.0</td>\n",
       "      <td>130.0</td>\n",
       "      <td>3504</td>\n",
       "      <td>12.0</td>\n",
       "      <td>1970-01-01</td>\n",
       "      <td>USA</td>\n",
       "    </tr>\n",
       "  </tbody>\n",
       "</table>\n",
       "</div>"
      ],
      "text/plain": [
       "                        Name  Miles_per_Gallon  Cylinders  Displacement  \\\n",
       "0  chevrolet chevelle malibu              18.0          8         307.0   \n",
       "\n",
       "   Horsepower  Weight_in_lbs  Acceleration        Year Origin  \n",
       "0       130.0           3504          12.0  1970-01-01    USA  "
      ]
     },
     "execution_count": 192,
     "metadata": {},
     "output_type": "execute_result"
    }
   ],
   "source": [
    "car_data1.head(1) # Just take a look of the nature of data we have"
   ]
  },
  {
   "cell_type": "markdown",
   "id": "164e24e0-c40e-4f2d-b79b-8700509ed502",
   "metadata": {},
   "source": [
    "#### And the columns is have is :"
   ]
  },
  {
   "cell_type": "code",
   "execution_count": 193,
   "id": "e2e9948a-2069-40c9-afb1-d3e00b2ea4ee",
   "metadata": {},
   "outputs": [
    {
     "data": {
      "text/plain": [
       "Index(['Name', 'Miles_per_Gallon', 'Cylinders', 'Displacement', 'Horsepower',\n",
       "       'Weight_in_lbs', 'Acceleration', 'Year', 'Origin'],\n",
       "      dtype='object')"
      ]
     },
     "execution_count": 193,
     "metadata": {},
     "output_type": "execute_result"
    }
   ],
   "source": [
    "car_data1.columns # See the columns names"
   ]
  },
  {
   "cell_type": "markdown",
   "id": "5b2205c8-ed97-4dcc-a1f8-02413cb8417b",
   "metadata": {},
   "source": [
    "#### The shape of car_data1 dataframe is"
   ]
  },
  {
   "cell_type": "code",
   "execution_count": 194,
   "id": "ecf5219b-3822-4b17-9772-733cc990f50f",
   "metadata": {},
   "outputs": [
    {
     "data": {
      "text/plain": [
       "(406, 9)"
      ]
     },
     "execution_count": 194,
     "metadata": {},
     "output_type": "execute_result"
    }
   ],
   "source": [
    "car_data1.shape # take a look of the shape"
   ]
  },
  {
   "cell_type": "markdown",
   "id": "94b16919-3a1c-4dde-90cd-59704c38b9c7",
   "metadata": {},
   "source": [
    "#### The dataset one is not tidy data, it's messy and dirty data **(The first dataset)**"
   ]
  },
  {
   "cell_type": "markdown",
   "id": "eea463d8-fb1b-47ad-92da-1bede876f721",
   "metadata": {},
   "source": [
    "1. **Dirty**: Missing values, duplicated values.\n",
    "2. **Messy**: Irrelevant columns and structure issues not suitable for concatenation."
   ]
  },
  {
   "cell_type": "markdown",
   "id": "80fc2461-9c45-43ed-8947-ea625d879465",
   "metadata": {},
   "source": [
    "### 2. Secound dataset from xlsx in kaggle :"
   ]
  },
  {
   "cell_type": "code",
   "execution_count": 195,
   "id": "a086fd66-1193-47cb-aa5f-076c5629c05d",
   "metadata": {},
   "outputs": [
    {
     "data": {
      "text/html": [
       "<div>\n",
       "<style scoped>\n",
       "    .dataframe tbody tr th:only-of-type {\n",
       "        vertical-align: middle;\n",
       "    }\n",
       "\n",
       "    .dataframe tbody tr th {\n",
       "        vertical-align: top;\n",
       "    }\n",
       "\n",
       "    .dataframe thead th {\n",
       "        text-align: right;\n",
       "    }\n",
       "</style>\n",
       "<table border=\"1\" class=\"dataframe\">\n",
       "  <thead>\n",
       "    <tr style=\"text-align: right;\">\n",
       "      <th></th>\n",
       "      <th>Model</th>\n",
       "      <th>Vehicle</th>\n",
       "      <th>Type</th>\n",
       "      <th>Origin</th>\n",
       "      <th>Seats</th>\n",
       "      <th>Drive</th>\n",
       "      <th>Engine</th>\n",
       "      <th>Cylinders</th>\n",
       "      <th>Horsepower</th>\n",
       "      <th>Mileage Overall</th>\n",
       "      <th>...</th>\n",
       "      <th>CrashDriver</th>\n",
       "      <th>CrashPassenger</th>\n",
       "      <th>SideCrashDriver</th>\n",
       "      <th>SideCrashPassenger</th>\n",
       "      <th>Frontal Offset-IIHS</th>\n",
       "      <th>Side-IIHS</th>\n",
       "      <th>Rollover Rating</th>\n",
       "      <th>Price</th>\n",
       "      <th>Category</th>\n",
       "      <th>Unnamed: 43</th>\n",
       "    </tr>\n",
       "  </thead>\n",
       "  <tbody>\n",
       "    <tr>\n",
       "      <th>0</th>\n",
       "      <td>Acura MDX</td>\n",
       "      <td>sport utility</td>\n",
       "      <td>luxury sport utility</td>\n",
       "      <td>Asia</td>\n",
       "      <td>7.0</td>\n",
       "      <td>all</td>\n",
       "      <td>3.7</td>\n",
       "      <td>6.0</td>\n",
       "      <td>305.0</td>\n",
       "      <td>17.0</td>\n",
       "      <td>...</td>\n",
       "      <td>5</td>\n",
       "      <td>5</td>\n",
       "      <td>5</td>\n",
       "      <td>5.0</td>\n",
       "      <td>good</td>\n",
       "      <td>good</td>\n",
       "      <td>good</td>\n",
       "      <td>47000.0</td>\n",
       "      <td>0.0</td>\n",
       "      <td>NaN</td>\n",
       "    </tr>\n",
       "  </tbody>\n",
       "</table>\n",
       "<p>1 rows × 44 columns</p>\n",
       "</div>"
      ],
      "text/plain": [
       "       Model        Vehicle                  Type Origin  Seats Drive  Engine  \\\n",
       "0  Acura MDX  sport utility  luxury sport utility   Asia    7.0   all     3.7   \n",
       "\n",
       "   Cylinders  Horsepower  Mileage Overall  ...  CrashDriver  CrashPassenger  \\\n",
       "0        6.0       305.0             17.0  ...            5               5   \n",
       "\n",
       "   SideCrashDriver  SideCrashPassenger  Frontal Offset-IIHS  Side-IIHS  \\\n",
       "0                5                 5.0                 good       good   \n",
       "\n",
       "   Rollover Rating    Price  Category  Unnamed: 43  \n",
       "0             good  47000.0       0.0          NaN  \n",
       "\n",
       "[1 rows x 44 columns]"
      ]
     },
     "execution_count": 195,
     "metadata": {},
     "output_type": "execute_result"
    }
   ],
   "source": [
    "car_data2.head(1) # Just take a look of the nature of data we have"
   ]
  },
  {
   "cell_type": "markdown",
   "id": "c3a30052-646a-4fc7-8979-1a14b4d03778",
   "metadata": {},
   "source": [
    "#### And the columns is have is :"
   ]
  },
  {
   "cell_type": "code",
   "execution_count": 196,
   "id": "1149b1f3-55df-4c25-842f-4e25355971f3",
   "metadata": {},
   "outputs": [
    {
     "data": {
      "text/plain": [
       "Index(['Model', 'Vehicle', 'Type', 'Origin', 'Seats', 'Drive', 'Engine',\n",
       "       'Cylinders', 'Horsepower', 'Mileage Overall', 'Mileage Highway',\n",
       "       'Mileage City', 'Zero-60 (sec)', 'Braking Dry (ft)', 'Braking Wet (ft)',\n",
       "       'Avoidance Maneuver (mph)', 'Length', 'Width', 'Height', 'Wheelbase',\n",
       "       'Turning Circle', 'Weight', 'Max Load', 'Cargo Volume',\n",
       "       'Front Shoulder', 'Front Leg Room', 'Front Head Room', 'Rear Shoulder',\n",
       "       'Rear Leg Room', 'Rear Head Room', 'Reliable', 'Satisfaction',\n",
       "       'Routine Handling', 'Emergency Handling', 'CrashDriver',\n",
       "       'CrashPassenger', 'SideCrashDriver', 'SideCrashPassenger',\n",
       "       'Frontal Offset-IIHS', 'Side-IIHS', 'Rollover Rating', 'Price',\n",
       "       'Category', 'Unnamed: 43'],\n",
       "      dtype='object')"
      ]
     },
     "execution_count": 196,
     "metadata": {},
     "output_type": "execute_result"
    }
   ],
   "source": [
    "car_data2.columns # See the columns names"
   ]
  },
  {
   "cell_type": "markdown",
   "id": "779be999-8e55-4698-9430-f8be5973743d",
   "metadata": {},
   "source": [
    "#### The shape of car_data2 dataframe is"
   ]
  },
  {
   "cell_type": "code",
   "execution_count": 197,
   "id": "ce757f55-2dc3-4806-be01-7cde54602454",
   "metadata": {},
   "outputs": [
    {
     "data": {
      "text/plain": [
       "(302, 44)"
      ]
     },
     "execution_count": 197,
     "metadata": {},
     "output_type": "execute_result"
    }
   ],
   "source": [
    "car_data2.shape # take a look of the shape"
   ]
  },
  {
   "cell_type": "markdown",
   "id": "9c6a7e1a-dde8-42ef-be5f-5a39ee98e8d8",
   "metadata": {},
   "source": [
    "#### The dataset two is not tidy data, it's messy and dirty data **(The second dataset)**"
   ]
  },
  {
   "cell_type": "markdown",
   "id": "b3875d47-1475-4995-9d14-d7d4b48a9244",
   "metadata": {},
   "source": [
    "1. **Dirty**: Missing values, duplicated values.\n",
    "2. **Messy**: Irrelevant columns and structure issues not suitable for concatenation."
   ]
  },
  {
   "cell_type": "markdown",
   "id": "ccad78f3-26af-4a20-ad18-59a0c4b16b51",
   "metadata": {},
   "source": [
    "### We can notice the huge differance of the data so we most make it in the same form to combine it togather"
   ]
  },
  {
   "cell_type": "markdown",
   "id": "8852940e-b2b7-4fdf-aff8-5796e8144f1f",
   "metadata": {},
   "source": [
    "## 3. Clean the data"
   ]
  },
  {
   "cell_type": "markdown",
   "id": "b68f9fe3-433a-481f-8ff8-921b7a7afc5f",
   "metadata": {},
   "source": [
    "### First thing i will clean dataset1"
   ]
  },
  {
   "cell_type": "markdown",
   "id": "bfae2345-9455-4c98-b3ae-8ec5a0baf565",
   "metadata": {},
   "source": [
    "#### Drop all the columns we dont need from dataset 1"
   ]
  },
  {
   "cell_type": "code",
   "execution_count": 198,
   "id": "2cff21ca-19f0-40f0-9402-95fba8384b46",
   "metadata": {},
   "outputs": [
    {
     "data": {
      "text/html": [
       "<div>\n",
       "<style scoped>\n",
       "    .dataframe tbody tr th:only-of-type {\n",
       "        vertical-align: middle;\n",
       "    }\n",
       "\n",
       "    .dataframe tbody tr th {\n",
       "        vertical-align: top;\n",
       "    }\n",
       "\n",
       "    .dataframe thead th {\n",
       "        text-align: right;\n",
       "    }\n",
       "</style>\n",
       "<table border=\"1\" class=\"dataframe\">\n",
       "  <thead>\n",
       "    <tr style=\"text-align: right;\">\n",
       "      <th></th>\n",
       "      <th>Name</th>\n",
       "      <th>Origin</th>\n",
       "      <th>Cylinders</th>\n",
       "      <th>Horsepower</th>\n",
       "    </tr>\n",
       "  </thead>\n",
       "  <tbody>\n",
       "    <tr>\n",
       "      <th>0</th>\n",
       "      <td>chevrolet chevelle malibu</td>\n",
       "      <td>USA</td>\n",
       "      <td>8</td>\n",
       "      <td>130.0</td>\n",
       "    </tr>\n",
       "  </tbody>\n",
       "</table>\n",
       "</div>"
      ],
      "text/plain": [
       "                        Name Origin  Cylinders  Horsepower\n",
       "0  chevrolet chevelle malibu    USA          8       130.0"
      ]
     },
     "execution_count": 198,
     "metadata": {},
     "output_type": "execute_result"
    }
   ],
   "source": [
    "car_data1 = car_data1[['Name','Origin','Cylinders','Horsepower']] # Drop the columns that we dont need in our analysis\n",
    "car_data1.head(1)"
   ]
  },
  {
   "cell_type": "markdown",
   "id": "2936e57b-5ee8-4e66-92e6-beca12cb58bf",
   "metadata": {},
   "source": [
    "#### Then check the data types if it need casting "
   ]
  },
  {
   "cell_type": "code",
   "execution_count": 199,
   "id": "6504890d-da4b-46ef-b02e-6e2febd10687",
   "metadata": {},
   "outputs": [
    {
     "name": "stdout",
     "output_type": "stream",
     "text": [
      "<class 'pandas.core.frame.DataFrame'>\n",
      "RangeIndex: 406 entries, 0 to 405\n",
      "Data columns (total 4 columns):\n",
      " #   Column      Non-Null Count  Dtype  \n",
      "---  ------      --------------  -----  \n",
      " 0   Name        406 non-null    object \n",
      " 1   Origin      406 non-null    object \n",
      " 2   Cylinders   406 non-null    int64  \n",
      " 3   Horsepower  400 non-null    float64\n",
      "dtypes: float64(1), int64(1), object(2)\n",
      "memory usage: 12.8+ KB\n"
     ]
    }
   ],
   "source": [
    "car_data1.info() # See the data types and number of data points"
   ]
  },
  {
   "cell_type": "markdown",
   "id": "e0987d68-6e5a-48de-9ee4-ce1a16cc034b",
   "metadata": {},
   "source": [
    "#### See the observations how contains null values"
   ]
  },
  {
   "cell_type": "code",
   "execution_count": 200,
   "id": "6169367b-dd35-4ef0-8bb6-78fcf0102075",
   "metadata": {},
   "outputs": [
    {
     "data": {
      "text/html": [
       "<div>\n",
       "<style scoped>\n",
       "    .dataframe tbody tr th:only-of-type {\n",
       "        vertical-align: middle;\n",
       "    }\n",
       "\n",
       "    .dataframe tbody tr th {\n",
       "        vertical-align: top;\n",
       "    }\n",
       "\n",
       "    .dataframe thead th {\n",
       "        text-align: right;\n",
       "    }\n",
       "</style>\n",
       "<table border=\"1\" class=\"dataframe\">\n",
       "  <thead>\n",
       "    <tr style=\"text-align: right;\">\n",
       "      <th></th>\n",
       "      <th>Name</th>\n",
       "      <th>Origin</th>\n",
       "      <th>Cylinders</th>\n",
       "      <th>Horsepower</th>\n",
       "    </tr>\n",
       "  </thead>\n",
       "  <tbody>\n",
       "    <tr>\n",
       "      <th>38</th>\n",
       "      <td>ford pinto</td>\n",
       "      <td>USA</td>\n",
       "      <td>4</td>\n",
       "      <td>NaN</td>\n",
       "    </tr>\n",
       "    <tr>\n",
       "      <th>133</th>\n",
       "      <td>ford maverick</td>\n",
       "      <td>USA</td>\n",
       "      <td>6</td>\n",
       "      <td>NaN</td>\n",
       "    </tr>\n",
       "    <tr>\n",
       "      <th>337</th>\n",
       "      <td>renault lecar deluxe</td>\n",
       "      <td>Europe</td>\n",
       "      <td>4</td>\n",
       "      <td>NaN</td>\n",
       "    </tr>\n",
       "    <tr>\n",
       "      <th>343</th>\n",
       "      <td>ford mustang cobra</td>\n",
       "      <td>USA</td>\n",
       "      <td>4</td>\n",
       "      <td>NaN</td>\n",
       "    </tr>\n",
       "    <tr>\n",
       "      <th>361</th>\n",
       "      <td>renault 18i</td>\n",
       "      <td>Europe</td>\n",
       "      <td>4</td>\n",
       "      <td>NaN</td>\n",
       "    </tr>\n",
       "    <tr>\n",
       "      <th>382</th>\n",
       "      <td>amc concord dl</td>\n",
       "      <td>USA</td>\n",
       "      <td>4</td>\n",
       "      <td>NaN</td>\n",
       "    </tr>\n",
       "  </tbody>\n",
       "</table>\n",
       "</div>"
      ],
      "text/plain": [
       "                     Name  Origin  Cylinders  Horsepower\n",
       "38             ford pinto     USA          4         NaN\n",
       "133         ford maverick     USA          6         NaN\n",
       "337  renault lecar deluxe  Europe          4         NaN\n",
       "343    ford mustang cobra     USA          4         NaN\n",
       "361           renault 18i  Europe          4         NaN\n",
       "382        amc concord dl     USA          4         NaN"
      ]
     },
     "execution_count": 200,
     "metadata": {},
     "output_type": "execute_result"
    }
   ],
   "source": [
    "car_data1[car_data1['Horsepower'].isna()] # See the observation that have NaN values to know how to deal with it"
   ]
  },
  {
   "cell_type": "markdown",
   "id": "37407943-cf16-4529-80da-af66351ab736",
   "metadata": {},
   "source": [
    "#### We can handling the null values is Horsepower column"
   ]
  },
  {
   "cell_type": "code",
   "execution_count": 201,
   "id": "964236ba-d711-4b32-95b4-911377f395e5",
   "metadata": {},
   "outputs": [],
   "source": [
    "car_data1['Horsepower'].fillna(car_data1['Horsepower'].median(), inplace=True) # Claculate the median of Horsepower and but it into the nan values"
   ]
  },
  {
   "cell_type": "markdown",
   "id": "5034eed5-3d30-465b-a8f5-51383ca43d7e",
   "metadata": {},
   "source": [
    "#### I will cast thouse two columns (Cylinders,Horsepower) to smaller size to reduce the memory usage"
   ]
  },
  {
   "cell_type": "code",
   "execution_count": 202,
   "id": "787da74b-1544-4f58-bd99-19acc8484423",
   "metadata": {},
   "outputs": [],
   "source": [
    "car_data1['Cylinders'] = car_data1['Cylinders'].astype('int16') # Cast the Cylinders to int16 it dont need int64 it too small on it \n",
    "car_data1['Horsepower'] = car_data1['Horsepower'].replace('NaN', 0).astype('int16')# Cast the Horsepower to int16 it dont need float64 it too small on it and replace the NaN values with 0 "
   ]
  },
  {
   "cell_type": "markdown",
   "id": "b1d67b09-e644-4ac8-a839-9c8c4f2fa151",
   "metadata": {},
   "source": [
    "#### Check the duplicated drop if exiest"
   ]
  },
  {
   "cell_type": "code",
   "execution_count": 203,
   "id": "4cda7faf-6660-4ec7-9093-ac0efcdbf79f",
   "metadata": {},
   "outputs": [],
   "source": [
    "car_data1 = car_data1.drop_duplicates() # Drop the duplicated observation"
   ]
  },
  {
   "cell_type": "markdown",
   "id": "d4624db8-0ccd-454a-a17e-7a314cc4b9ee",
   "metadata": {},
   "source": [
    "### Secound thing i will clean dataset2"
   ]
  },
  {
   "cell_type": "markdown",
   "id": "a73e2b66-cd9d-42e9-8b13-7ab05ab3d2e0",
   "metadata": {},
   "source": [
    "#### Drop all the columns we dont need from dataset 2"
   ]
  },
  {
   "cell_type": "code",
   "execution_count": 204,
   "id": "7a36470d-ba8e-4654-ae87-1f94b54e5ff7",
   "metadata": {},
   "outputs": [
    {
     "data": {
      "text/html": [
       "<div>\n",
       "<style scoped>\n",
       "    .dataframe tbody tr th:only-of-type {\n",
       "        vertical-align: middle;\n",
       "    }\n",
       "\n",
       "    .dataframe tbody tr th {\n",
       "        vertical-align: top;\n",
       "    }\n",
       "\n",
       "    .dataframe thead th {\n",
       "        text-align: right;\n",
       "    }\n",
       "</style>\n",
       "<table border=\"1\" class=\"dataframe\">\n",
       "  <thead>\n",
       "    <tr style=\"text-align: right;\">\n",
       "      <th></th>\n",
       "      <th>Model</th>\n",
       "      <th>Origin</th>\n",
       "      <th>Cylinders</th>\n",
       "      <th>Horsepower</th>\n",
       "    </tr>\n",
       "  </thead>\n",
       "  <tbody>\n",
       "    <tr>\n",
       "      <th>0</th>\n",
       "      <td>Acura MDX</td>\n",
       "      <td>Asia</td>\n",
       "      <td>6.0</td>\n",
       "      <td>305.0</td>\n",
       "    </tr>\n",
       "  </tbody>\n",
       "</table>\n",
       "</div>"
      ],
      "text/plain": [
       "       Model Origin  Cylinders  Horsepower\n",
       "0  Acura MDX   Asia        6.0       305.0"
      ]
     },
     "execution_count": 204,
     "metadata": {},
     "output_type": "execute_result"
    }
   ],
   "source": [
    "car_data2 = car_data2[['Model','Origin','Cylinders','Horsepower']] # Drop the columns that we dont need in our analysis\n",
    "car_data2.head(1)"
   ]
  },
  {
   "cell_type": "markdown",
   "id": "2dca5e82-4299-43a6-950c-6c097c5f8719",
   "metadata": {},
   "source": [
    "#### rename the columns to be like the other data set "
   ]
  },
  {
   "cell_type": "code",
   "execution_count": 205,
   "id": "961b858c-4a3d-43f9-9a48-ab0b46c0930c",
   "metadata": {},
   "outputs": [],
   "source": [
    "car_data2 = car_data2.rename(columns={'Model': 'Name'}) # Rename the column to make it the same on each data sets to concate it"
   ]
  },
  {
   "cell_type": "markdown",
   "id": "56f6f790-c237-46c3-ab39-88450ddc65fc",
   "metadata": {},
   "source": [
    "#### Then check the data types if it need casting "
   ]
  },
  {
   "cell_type": "code",
   "execution_count": 206,
   "id": "3ac79826-b7e5-4e1b-b2cd-979850e6633b",
   "metadata": {},
   "outputs": [
    {
     "name": "stdout",
     "output_type": "stream",
     "text": [
      "<class 'pandas.core.frame.DataFrame'>\n",
      "RangeIndex: 302 entries, 0 to 301\n",
      "Data columns (total 4 columns):\n",
      " #   Column      Non-Null Count  Dtype  \n",
      "---  ------      --------------  -----  \n",
      " 0   Name        299 non-null    object \n",
      " 1   Origin      299 non-null    object \n",
      " 2   Cylinders   299 non-null    float64\n",
      " 3   Horsepower  299 non-null    float64\n",
      "dtypes: float64(2), object(2)\n",
      "memory usage: 9.6+ KB\n"
     ]
    }
   ],
   "source": [
    "car_data2.info() # See the data types and number of data points"
   ]
  },
  {
   "cell_type": "markdown",
   "id": "b16d6f80-3bf2-475d-96f1-13b08daf2ad3",
   "metadata": {},
   "source": [
    "#### Cheack null values and handle it "
   ]
  },
  {
   "cell_type": "code",
   "execution_count": 207,
   "id": "fe996db7-e789-4b4b-b11e-386ca9a97b89",
   "metadata": {},
   "outputs": [],
   "source": [
    "car_data2 = car_data2.dropna(how = 'all') # Drop if there is observation that all NaN values"
   ]
  },
  {
   "cell_type": "markdown",
   "id": "4c111a79-c25c-464a-9515-61fe2aa2964a",
   "metadata": {},
   "source": [
    "#### I will cast thouse two columns (Cylinders,Horsepower) to smaller size to reduce the memory usage"
   ]
  },
  {
   "cell_type": "code",
   "execution_count": 208,
   "id": "db847a5b-0dfc-4364-909d-47a790cb0e0a",
   "metadata": {},
   "outputs": [],
   "source": [
    "car_data2['Cylinders'] = car_data2['Cylinders'].astype('int16') # Cast the Cylinders to int16 it dont need int64 it too small on it \n",
    "car_data2['Horsepower'] = car_data2['Horsepower'].astype('int16') # Cast the Horsepower to int16 it dont need float64 it too small "
   ]
  },
  {
   "cell_type": "markdown",
   "id": "cd539d0a-a7a2-4523-a0f3-e4eb4c70195b",
   "metadata": {},
   "source": [
    "#### Check the duplicated drop if exiest"
   ]
  },
  {
   "cell_type": "code",
   "execution_count": 209,
   "id": "cbfa1bec-7f31-4f7b-873d-57527bf15149",
   "metadata": {},
   "outputs": [],
   "source": [
    "car_data2 = car_data2.drop_duplicates() # Drop the duplicated observation"
   ]
  },
  {
   "cell_type": "markdown",
   "id": "5f74b7f3-c5ab-4906-adcd-8231c07b83e6",
   "metadata": {},
   "source": [
    "#### Store the data after cleaning separatly"
   ]
  },
  {
   "cell_type": "code",
   "execution_count": 210,
   "id": "9f8d9d04-d7c3-4318-baaf-5cd3c162a563",
   "metadata": {},
   "outputs": [],
   "source": [
    "car_data1.to_csv('DataSets/CarData1Cleand.csv', index=False) # Save the data sets after cleaning\n",
    "car_data2.to_csv('DataSets/CarData2Cleand.csv', index=False) # Save the data sets after cleaning"
   ]
  },
  {
   "cell_type": "markdown",
   "id": "499f3d8a-2139-4c39-8502-2c79afa91ed5",
   "metadata": {},
   "source": [
    "## 4. Combine the two datasets"
   ]
  },
  {
   "cell_type": "markdown",
   "id": "7cf80341-73a9-4340-a03f-e307849f8b89",
   "metadata": {},
   "source": [
    "#### *Combine the two datasets using concat*"
   ]
  },
  {
   "cell_type": "code",
   "execution_count": 211,
   "id": "bc8107ea-44aa-48e2-a17e-8630b3fed86f",
   "metadata": {},
   "outputs": [
    {
     "data": {
      "text/html": [
       "<div>\n",
       "<style scoped>\n",
       "    .dataframe tbody tr th:only-of-type {\n",
       "        vertical-align: middle;\n",
       "    }\n",
       "\n",
       "    .dataframe tbody tr th {\n",
       "        vertical-align: top;\n",
       "    }\n",
       "\n",
       "    .dataframe thead th {\n",
       "        text-align: right;\n",
       "    }\n",
       "</style>\n",
       "<table border=\"1\" class=\"dataframe\">\n",
       "  <thead>\n",
       "    <tr style=\"text-align: right;\">\n",
       "      <th></th>\n",
       "      <th>Name</th>\n",
       "      <th>Origin</th>\n",
       "      <th>Cylinders</th>\n",
       "      <th>Horsepower</th>\n",
       "    </tr>\n",
       "  </thead>\n",
       "  <tbody>\n",
       "    <tr>\n",
       "      <th>633</th>\n",
       "      <td>Subaru Outback</td>\n",
       "      <td>Asia</td>\n",
       "      <td>6</td>\n",
       "      <td>250</td>\n",
       "    </tr>\n",
       "    <tr>\n",
       "      <th>276</th>\n",
       "      <td>ford ltd landau</td>\n",
       "      <td>USA</td>\n",
       "      <td>8</td>\n",
       "      <td>129</td>\n",
       "    </tr>\n",
       "    <tr>\n",
       "      <th>415</th>\n",
       "      <td>Chevrolet Avalanche</td>\n",
       "      <td>USA</td>\n",
       "      <td>8</td>\n",
       "      <td>310</td>\n",
       "    </tr>\n",
       "    <tr>\n",
       "      <th>538</th>\n",
       "      <td>Lincoln LS</td>\n",
       "      <td>USA</td>\n",
       "      <td>6</td>\n",
       "      <td>232</td>\n",
       "    </tr>\n",
       "    <tr>\n",
       "      <th>601</th>\n",
       "      <td>Pontiac G8</td>\n",
       "      <td>USA</td>\n",
       "      <td>6</td>\n",
       "      <td>361</td>\n",
       "    </tr>\n",
       "  </tbody>\n",
       "</table>\n",
       "</div>"
      ],
      "text/plain": [
       "                    Name Origin  Cylinders  Horsepower\n",
       "633       Subaru Outback   Asia          6         250\n",
       "276      ford ltd landau    USA          8         129\n",
       "415  Chevrolet Avalanche    USA          8         310\n",
       "538           Lincoln LS    USA          6         232\n",
       "601           Pontiac G8    USA          6         361"
      ]
     },
     "execution_count": 211,
     "metadata": {},
     "output_type": "execute_result"
    }
   ],
   "source": [
    "combined_data = pd.concat([car_data1, car_data2], ignore_index=True) # Concate the datasets\n",
    "combined_data.sample(5)"
   ]
  },
  {
   "cell_type": "markdown",
   "id": "56ddbb38-da12-4970-b466-b10b3d69c252",
   "metadata": {},
   "source": [
    "#### See a bref describtion about the concated dataframes "
   ]
  },
  {
   "cell_type": "code",
   "execution_count": 212,
   "id": "9f692e88-c472-4443-9e9d-4004a06bf21f",
   "metadata": {},
   "outputs": [
    {
     "data": {
      "text/html": [
       "<div>\n",
       "<style scoped>\n",
       "    .dataframe tbody tr th:only-of-type {\n",
       "        vertical-align: middle;\n",
       "    }\n",
       "\n",
       "    .dataframe tbody tr th {\n",
       "        vertical-align: top;\n",
       "    }\n",
       "\n",
       "    .dataframe thead th {\n",
       "        text-align: right;\n",
       "    }\n",
       "</style>\n",
       "<table border=\"1\" class=\"dataframe\">\n",
       "  <thead>\n",
       "    <tr style=\"text-align: right;\">\n",
       "      <th></th>\n",
       "      <th>Cylinders</th>\n",
       "      <th>Horsepower</th>\n",
       "    </tr>\n",
       "  </thead>\n",
       "  <tbody>\n",
       "    <tr>\n",
       "      <th>count</th>\n",
       "      <td>680.000000</td>\n",
       "      <td>680.000000</td>\n",
       "    </tr>\n",
       "    <tr>\n",
       "      <th>mean</th>\n",
       "      <td>5.620588</td>\n",
       "      <td>164.541176</td>\n",
       "    </tr>\n",
       "    <tr>\n",
       "      <th>std</th>\n",
       "      <td>1.605455</td>\n",
       "      <td>86.405207</td>\n",
       "    </tr>\n",
       "    <tr>\n",
       "      <th>min</th>\n",
       "      <td>1.000000</td>\n",
       "      <td>46.000000</td>\n",
       "    </tr>\n",
       "    <tr>\n",
       "      <th>25%</th>\n",
       "      <td>4.000000</td>\n",
       "      <td>90.000000</td>\n",
       "    </tr>\n",
       "    <tr>\n",
       "      <th>50%</th>\n",
       "      <td>6.000000</td>\n",
       "      <td>148.000000</td>\n",
       "    </tr>\n",
       "    <tr>\n",
       "      <th>75%</th>\n",
       "      <td>6.000000</td>\n",
       "      <td>232.750000</td>\n",
       "    </tr>\n",
       "    <tr>\n",
       "      <th>max</th>\n",
       "      <td>10.000000</td>\n",
       "      <td>510.000000</td>\n",
       "    </tr>\n",
       "  </tbody>\n",
       "</table>\n",
       "</div>"
      ],
      "text/plain": [
       "        Cylinders  Horsepower\n",
       "count  680.000000  680.000000\n",
       "mean     5.620588  164.541176\n",
       "std      1.605455   86.405207\n",
       "min      1.000000   46.000000\n",
       "25%      4.000000   90.000000\n",
       "50%      6.000000  148.000000\n",
       "75%      6.000000  232.750000\n",
       "max     10.000000  510.000000"
      ]
     },
     "execution_count": 212,
     "metadata": {},
     "output_type": "execute_result"
    }
   ],
   "source": [
    "combined_data.describe() # See a describtion about the numaric data in the combines datasets"
   ]
  },
  {
   "cell_type": "markdown",
   "id": "7b0213db-336c-49c5-9a87-248b0d82f46a",
   "metadata": {},
   "source": [
    "#### Check if it have null vales and the data types"
   ]
  },
  {
   "cell_type": "code",
   "execution_count": 213,
   "id": "77c26c38-af61-4f8b-aca5-458af85c38f3",
   "metadata": {},
   "outputs": [
    {
     "data": {
      "text/plain": [
       "Name          0\n",
       "Origin        0\n",
       "Cylinders     0\n",
       "Horsepower    0\n",
       "dtype: int64"
      ]
     },
     "execution_count": 213,
     "metadata": {},
     "output_type": "execute_result"
    }
   ],
   "source": [
    "combined_data.isna().sum() # See the number of nulls"
   ]
  },
  {
   "cell_type": "code",
   "execution_count": 214,
   "id": "5801e605-9a79-44c3-8476-9416332e0933",
   "metadata": {},
   "outputs": [
    {
     "name": "stdout",
     "output_type": "stream",
     "text": [
      "<class 'pandas.core.frame.DataFrame'>\n",
      "RangeIndex: 680 entries, 0 to 679\n",
      "Data columns (total 4 columns):\n",
      " #   Column      Non-Null Count  Dtype \n",
      "---  ------      --------------  ----- \n",
      " 0   Name        680 non-null    object\n",
      " 1   Origin      680 non-null    object\n",
      " 2   Cylinders   680 non-null    int16 \n",
      " 3   Horsepower  680 non-null    int16 \n",
      "dtypes: int16(2), object(2)\n",
      "memory usage: 13.4+ KB\n"
     ]
    }
   ],
   "source": [
    "combined_data.info() # See the data types and number of data points"
   ]
  },
  {
   "cell_type": "markdown",
   "id": "ab9ff90b-b27e-4a8a-a61d-5569666c90f7",
   "metadata": {},
   "source": [
    "* #### The shape of the data frame is "
   ]
  },
  {
   "cell_type": "code",
   "execution_count": 215,
   "id": "22888085-3978-4438-bb1f-a8a79dd7ca3c",
   "metadata": {},
   "outputs": [
    {
     "data": {
      "text/plain": [
       "(680, 4)"
      ]
     },
     "execution_count": 215,
     "metadata": {},
     "output_type": "execute_result"
    }
   ],
   "source": [
    "combined_data.shape # See the shape of data and the number of observation and number of columns"
   ]
  },
  {
   "cell_type": "markdown",
   "id": "a025b760-452a-44f5-81c1-79e2f6a87db0",
   "metadata": {},
   "source": [
    "#### Now it tidy dataset i removed all unnecessary columns ,drop the duplicated observation and filled the missing data points and maked it clean data and ready to store"
   ]
  },
  {
   "cell_type": "markdown",
   "id": "d2ca07c1-7032-4de7-85bd-80ad5d02f4ea",
   "metadata": {},
   "source": [
    "## 5. Store data"
   ]
  },
  {
   "cell_type": "markdown",
   "id": "f5fbe12b-bdd9-4155-ad6f-ae45ebcd262d",
   "metadata": {},
   "source": [
    "#### After we make sure that the data is cleand and comined we want to store it"
   ]
  },
  {
   "cell_type": "code",
   "execution_count": 216,
   "id": "dde8dbbb-fe9c-4323-b82f-66656184b7f2",
   "metadata": {},
   "outputs": [],
   "source": [
    "combined_data.to_csv('DataSets/combined_data.csv', index=False) # Save the data after concated it"
   ]
  },
  {
   "cell_type": "markdown",
   "id": "b01eb6d9-3b60-4290-bda3-0d025678162b",
   "metadata": {},
   "source": [
    "## 6. Answer an intersting questions with visuals"
   ]
  },
  {
   "cell_type": "markdown",
   "id": "33a38c77-ddaf-40f5-b3c5-75eed0779eb2",
   "metadata": {},
   "source": [
    "* ### How the distribution of numaric data ?"
   ]
  },
  {
   "cell_type": "code",
   "execution_count": 217,
   "id": "7596f6fa-5473-4291-aa31-01efa3eba1bd",
   "metadata": {},
   "outputs": [
    {
     "data": {
      "image/png": "[encoded data removed]",
      "text/plain": [
       "<Figure size 1000x800 with 2 Axes>"
      ]
     },
     "metadata": {},
     "output_type": "display_data"
    }
   ],
   "source": [
    "# Plotting histograms\n",
    "fig, (ax1, ax2) = plt.subplots(2, 1, figsize=(10, 8))\n",
    "\n",
    "# Histogram for combined_data with Cylinders\n",
    "ax1.hist(combined_data['Cylinders'], bins=10, alpha=0.7, color='blue')\n",
    "ax1.set_title('Histogram of Cylinders')\n",
    "ax1.set_xlabel('Cylinders')\n",
    "ax1.set_ylabel('Frequency')\n",
    "\n",
    "# Histogram for combined_data with Horsepower\n",
    "ax2.hist(combined_data['Horsepower'], bins=10, alpha=0.7, color='red')\n",
    "ax2.set_title('Histogram of Horsepower')\n",
    "ax2.set_xlabel('Horsepower')\n",
    "ax2.set_ylabel('Frequency')\n",
    "\n",
    "# Adjust layout\n",
    "plt.tight_layout()\n",
    "\n",
    "# Show the plot\n",
    "plt.show()"
   ]
  },
  {
   "cell_type": "code",
   "execution_count": 218,
   "id": "9057b7ae-c44c-4ac0-9d22-39ed0638f841",
   "metadata": {},
   "outputs": [
    {
     "data": {
      "image/png": "[encoded data removed]",
      "text/plain": [
       "<Figure size 1200x600 with 2 Axes>"
      ]
     },
     "metadata": {},
     "output_type": "display_data"
    }
   ],
   "source": [
    "# Create box plots for selected columns\n",
    "plt.figure(figsize=(12, 6))\n",
    "\n",
    "# Box plot for 'Horsepower'\n",
    "plt.subplot(1, 2, 1)\n",
    "sns.boxplot(x=combined_data['Horsepower'])\n",
    "plt.title('Box Plot of Horsepower')\n",
    "\n",
    "# Box plot for 'Cylinders'\n",
    "plt.subplot(1, 2, 2)\n",
    "sns.boxplot(x=combined_data['Cylinders'])\n",
    "plt.title('Box Plot of Cylinders')\n",
    "\n",
    "plt.tight_layout()\n",
    "plt.show()"
   ]
  },
  {
   "cell_type": "markdown",
   "id": "77da4b96-726e-4ee8-aa74-257652a15501",
   "metadata": {},
   "source": [
    "### Answer : the data of Horsepower squet to the rigth and there is an outliers in 500 and the data of Cylinders splited between 4 then 6 then 8 and there is outliers is 10"
   ]
  },
  {
   "cell_type": "markdown",
   "id": "904ac4c3-6594-4598-b200-7172aa73de43",
   "metadata": {},
   "source": [
    "* ### Is there a correlation between the numaric data ?"
   ]
  },
  {
   "cell_type": "code",
   "execution_count": 219,
   "id": "ce77df20-6bf6-4556-9370-5e2a09a2fac7",
   "metadata": {},
   "outputs": [
    {
     "data": {
      "image/png": "[encoded data removed]",
      "text/plain": [
       "<Figure size 500x500 with 6 Axes>"
      ]
     },
     "metadata": {},
     "output_type": "display_data"
    }
   ],
   "source": [
    "sns.pairplot(combined_data) # Create a pair plot for the numaric fetures\n",
    "plt.show()"
   ]
  },
  {
   "cell_type": "code",
   "execution_count": 220,
   "id": "608a8110-8876-4f76-9bd5-67f8dfd316ca",
   "metadata": {},
   "outputs": [
    {
     "data": {
      "image/png": "[encoded data removed]",
      "text/plain": [
       "<Figure size 640x480 with 2 Axes>"
      ]
     },
     "metadata": {},
     "output_type": "display_data"
    }
   ],
   "source": [
    "sns.heatmap(combined_data[['Cylinders','Horsepower']].corr(), annot=True, cmap='coolwarm', fmt=\".2f\") # Draw a heatmap for corr between the numaric fetures\n",
    "plt.title('Correlation Matrix Heatmap') # Putting a title\n",
    "plt.show()"
   ]
  },
  {
   "cell_type": "markdown",
   "id": "da268133-1bfa-4253-9a44-167d44df0448",
   "metadata": {},
   "source": [
    "### Answer : there is a moderate positive correlation is 0.54 between Horsepower and Cylinders"
   ]
  },
  {
   "cell_type": "markdown",
   "id": "3e3964f2-bbf9-42bc-9531-adfa5ed5917c",
   "metadata": {},
   "source": [
    "* ### Distribution of Vehicle across the Origins ?"
   ]
  },
  {
   "cell_type": "code",
   "execution_count": 221,
   "id": "1b25af3e-d493-476d-bc74-2a697a5d2504",
   "metadata": {},
   "outputs": [
    {
     "data": {
      "image/png": "[encoded data removed]",
      "text/plain": [
       "<Figure size 640x480 with 1 Axes>"
      ]
     },
     "metadata": {},
     "output_type": "display_data"
    }
   ],
   "source": [
    "sns.countplot(data=combined_data, x='Origin') # Count plot for Origin of vehicles\n",
    "plt.title('Distribution of Vehicle Origins') # Title\n",
    "plt.show()"
   ]
  },
  {
   "cell_type": "markdown",
   "id": "d948e05c-397f-4261-9fba-4e0c7fa11c95",
   "metadata": {},
   "source": [
    "### Answer : the USA in the top and the secound is Europe then Asia then japan"
   ]
  },
  {
   "cell_type": "markdown",
   "id": "6e20bbf1-8b62-4279-845f-3234c542bdf0",
   "metadata": {},
   "source": [
    "* ### What is The Average Horsepower by Origin"
   ]
  },
  {
   "cell_type": "code",
   "execution_count": 222,
   "id": "0f3bc9ac-3229-466d-961f-ecf6bb47d38c",
   "metadata": {},
   "outputs": [
    {
     "data": {
      "image/png": "[encoded data removed]",
      "text/plain": [
       "<Figure size 640x480 with 1 Axes>"
      ]
     },
     "metadata": {},
     "output_type": "display_data"
    }
   ],
   "source": [
    "avg_hp_by_origin = combined_data.groupby('Origin')['Horsepower'].mean() # Group be the origin then calculate the mean of Horsepower for each origin\n",
    "avg_hp_by_origin.plot(kind='bar') # Select a bar plot\n",
    "plt.title('Average Horsepower by Origin') # Title\n",
    "plt.ylabel('Average Horsepower') # Y lable\n",
    "plt.show()"
   ]
  },
  {
   "cell_type": "markdown",
   "id": "4deeb1d8-3b0a-4dd2-98ae-913451a10cf4",
   "metadata": {},
   "source": [
    "### Answer is the Asia in the top then USA then Europe and then japan"
   ]
  },
  {
   "cell_type": "markdown",
   "id": "de6c8c78-996c-4785-a2e8-6c54895acb75",
   "metadata": {},
   "source": [
    "## Overview :"
   ]
  },
  {
   "cell_type": "markdown",
   "id": "d6486875-1023-4b7e-9011-7c4d68117e29",
   "metadata": {},
   "source": [
    "**Wee walked on each step in data wrangling technique step by step :**\n",
    "1. Gathering\n",
    "2. Assessing \n",
    "3. Cleaning\n",
    "4. Combining\n",
    "5. Store the result\n",
    "6. And answering questions about the cleaned data"
   ]
  },
  {
   "cell_type": "markdown",
   "id": "70578ac0-fec5-4dda-9520-c73795c98b47",
   "metadata": {},
   "source": [
    "**Actully if i had a more time to complete the project :**\n",
    "1. I will search for another dataset and add it and combine it to the new dataset we have\n",
    "2. Make an ML modeling to clustring the data\n",
    "3. Answering more questions about the data and visualize the result"
   ]
  }
 ],
 "metadata": {
  "kernelspec": {
   "display_name": "Python 3 (ipykernel)",
   "language": "python",
   "name": "python3"
  },
  "language_info": {
   "codemirror_mode": {
    "name": "ipython",
    "version": 3
   },
   "file_extension": ".py",
   "mimetype": "text/x-python",
   "name": "python",
   "nbconvert_exporter": "python",
   "pygments_lexer": "ipython3",
   "version": "3.11.7"
  },
  "widgets": {
   "application/vnd.jupyter.widget-state+json": {
    "state": {},
    "version_major": 2,
    "version_minor": 0
   }
  }
 },
 "nbformat": 4,
 "nbformat_minor": 5
}
